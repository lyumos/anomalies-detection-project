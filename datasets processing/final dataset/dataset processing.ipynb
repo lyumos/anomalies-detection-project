{
 "cells": [
  {
   "cell_type": "code",
   "execution_count": 1,
   "outputs": [],
   "source": [
    "import pandas as pd"
   ],
   "metadata": {
    "collapsed": false,
    "ExecuteTime": {
     "end_time": "2023-06-20T16:47:05.386500652Z",
     "start_time": "2023-06-20T16:47:05.381259574Z"
    }
   }
  },
  {
   "cell_type": "code",
   "execution_count": 24,
   "outputs": [],
   "source": [
    "with open('/home/lyumos/PycharmProjects/anomalies-detection-project/datasets processing/domain characteristics dataset/raw_dc_dataset.csv', 'r') as file:\n",
    "    df1 = pd.read_csv(file)"
   ],
   "metadata": {
    "collapsed": false,
    "ExecuteTime": {
     "end_time": "2023-06-20T17:00:29.078418557Z",
     "start_time": "2023-06-20T17:00:28.873457373Z"
    }
   }
  },
  {
   "cell_type": "code",
   "execution_count": 25,
   "outputs": [],
   "source": [
    "with open('/home/lyumos/PycharmProjects/anomalies-detection-project/datasets processing/network characteristics dataset/raw_nc_dataset.csv', 'r') as file:\n",
    "    df2 = pd.read_csv(file)"
   ],
   "metadata": {
    "collapsed": false,
    "ExecuteTime": {
     "end_time": "2023-06-20T17:00:30.360906824Z",
     "start_time": "2023-06-20T17:00:30.143698Z"
    }
   }
  },
  {
   "cell_type": "code",
   "execution_count": 26,
   "outputs": [
    {
     "data": {
      "text/plain": "   FQDN_count  subdomain_length  upper  lower  numeric   entropy  special   \n0          24                 7      0     10        8  2.054029        6  \\\n1          12                 0      0     11        0  2.817711        1   \n2          27                10      0     10       11  2.570417        6   \n3          25                 8      0     10        9  2.556642        6   \n4          24                 7      0     10        8  2.054029        6   \n\n   labels  labels_max  labels_average  len  subdomain  label  longest_word   \n0       6           7        3.166667   11          1      1             4  \\\n1       2           8        5.500000    9          0      0          3209   \n2       6           7        3.666667   14          1      1             2   \n3       6           7        3.333333   12          1      1             2   \n4       6           7        3.166667   11          1      1             4   \n\n    sld  \n0    62  \n1  5671  \n2    38  \n3    38  \n4    62  ",
      "text/html": "<div>\n<style scoped>\n    .dataframe tbody tr th:only-of-type {\n        vertical-align: middle;\n    }\n\n    .dataframe tbody tr th {\n        vertical-align: top;\n    }\n\n    .dataframe thead th {\n        text-align: right;\n    }\n</style>\n<table border=\"1\" class=\"dataframe\">\n  <thead>\n    <tr style=\"text-align: right;\">\n      <th></th>\n      <th>FQDN_count</th>\n      <th>subdomain_length</th>\n      <th>upper</th>\n      <th>lower</th>\n      <th>numeric</th>\n      <th>entropy</th>\n      <th>special</th>\n      <th>labels</th>\n      <th>labels_max</th>\n      <th>labels_average</th>\n      <th>len</th>\n      <th>subdomain</th>\n      <th>label</th>\n      <th>longest_word</th>\n      <th>sld</th>\n    </tr>\n  </thead>\n  <tbody>\n    <tr>\n      <th>0</th>\n      <td>24</td>\n      <td>7</td>\n      <td>0</td>\n      <td>10</td>\n      <td>8</td>\n      <td>2.054029</td>\n      <td>6</td>\n      <td>6</td>\n      <td>7</td>\n      <td>3.166667</td>\n      <td>11</td>\n      <td>1</td>\n      <td>1</td>\n      <td>4</td>\n      <td>62</td>\n    </tr>\n    <tr>\n      <th>1</th>\n      <td>12</td>\n      <td>0</td>\n      <td>0</td>\n      <td>11</td>\n      <td>0</td>\n      <td>2.817711</td>\n      <td>1</td>\n      <td>2</td>\n      <td>8</td>\n      <td>5.500000</td>\n      <td>9</td>\n      <td>0</td>\n      <td>0</td>\n      <td>3209</td>\n      <td>5671</td>\n    </tr>\n    <tr>\n      <th>2</th>\n      <td>27</td>\n      <td>10</td>\n      <td>0</td>\n      <td>10</td>\n      <td>11</td>\n      <td>2.570417</td>\n      <td>6</td>\n      <td>6</td>\n      <td>7</td>\n      <td>3.666667</td>\n      <td>14</td>\n      <td>1</td>\n      <td>1</td>\n      <td>2</td>\n      <td>38</td>\n    </tr>\n    <tr>\n      <th>3</th>\n      <td>25</td>\n      <td>8</td>\n      <td>0</td>\n      <td>10</td>\n      <td>9</td>\n      <td>2.556642</td>\n      <td>6</td>\n      <td>6</td>\n      <td>7</td>\n      <td>3.333333</td>\n      <td>12</td>\n      <td>1</td>\n      <td>1</td>\n      <td>2</td>\n      <td>38</td>\n    </tr>\n    <tr>\n      <th>4</th>\n      <td>24</td>\n      <td>7</td>\n      <td>0</td>\n      <td>10</td>\n      <td>8</td>\n      <td>2.054029</td>\n      <td>6</td>\n      <td>6</td>\n      <td>7</td>\n      <td>3.166667</td>\n      <td>11</td>\n      <td>1</td>\n      <td>1</td>\n      <td>4</td>\n      <td>62</td>\n    </tr>\n  </tbody>\n</table>\n</div>"
     },
     "execution_count": 26,
     "metadata": {},
     "output_type": "execute_result"
    }
   ],
   "source": [
    "df1 = df1.iloc[10001:20001].reset_index(drop=True)\n",
    "df1.head()"
   ],
   "metadata": {
    "collapsed": false,
    "ExecuteTime": {
     "end_time": "2023-06-20T17:00:31.728487868Z",
     "start_time": "2023-06-20T17:00:31.675257036Z"
    }
   }
  },
  {
   "cell_type": "code",
   "execution_count": 27,
   "outputs": [
    {
     "data": {
      "text/plain": "   Flow Duration  Total Fwd Packets  Total Backward Packets   \n0          47981                  1                       1  \\\n1            158                  2                       2   \n2         119612                  2                       2   \n3          26337                150                       0   \n4        8973061                 10                       2   \n\n   Total Length of Fwd Packets  Total Length of Bwd Packets   \n0                         96.0                        178.0  \\\n1                         80.0                        112.0   \n2                         68.0                        280.0   \n3                      65424.0                          0.0   \n4                        460.0                         92.0   \n\n   Fwd Packet Length Mean  Bwd Packet Length Mean  Fwd Packets/s   \n0                   96.00                   178.0      20.841583  \\\n1                   40.00                    56.0   12658.227850   \n2                   34.00                   140.0      16.720730   \n3                  436.16                     0.0    5695.409500   \n4                   46.00                    46.0       1.114447   \n\n   Bwd Packets/s   Fwd IAT Mean  Bwd IAT Mean  Flow IAT Mean  Flow Packets/s   \n0      20.841583       0.000000           0.0   47981.000000       41.683166  \\\n1   12658.227850       4.000000           3.0      52.666667    25316.455700   \n2      16.720730       4.000000           3.0   39870.666670       33.441461   \n3       0.000000     176.758389           0.0     176.758389     5695.409500   \n4       0.222889  849257.777800           3.0  815732.818200        1.337336   \n\n   Flow Bytes/s  Label  \n0  5.710594e+03      0  \n1  1.215190e+06      0  \n2  2.909407e+03      0  \n3  2.484110e+06      1  \n4  6.151747e+01      0  ",
      "text/html": "<div>\n<style scoped>\n    .dataframe tbody tr th:only-of-type {\n        vertical-align: middle;\n    }\n\n    .dataframe tbody tr th {\n        vertical-align: top;\n    }\n\n    .dataframe thead th {\n        text-align: right;\n    }\n</style>\n<table border=\"1\" class=\"dataframe\">\n  <thead>\n    <tr style=\"text-align: right;\">\n      <th></th>\n      <th>Flow Duration</th>\n      <th>Total Fwd Packets</th>\n      <th>Total Backward Packets</th>\n      <th>Total Length of Fwd Packets</th>\n      <th>Total Length of Bwd Packets</th>\n      <th>Fwd Packet Length Mean</th>\n      <th>Bwd Packet Length Mean</th>\n      <th>Fwd Packets/s</th>\n      <th>Bwd Packets/s</th>\n      <th>Fwd IAT Mean</th>\n      <th>Bwd IAT Mean</th>\n      <th>Flow IAT Mean</th>\n      <th>Flow Packets/s</th>\n      <th>Flow Bytes/s</th>\n      <th>Label</th>\n    </tr>\n  </thead>\n  <tbody>\n    <tr>\n      <th>0</th>\n      <td>47981</td>\n      <td>1</td>\n      <td>1</td>\n      <td>96.0</td>\n      <td>178.0</td>\n      <td>96.00</td>\n      <td>178.0</td>\n      <td>20.841583</td>\n      <td>20.841583</td>\n      <td>0.000000</td>\n      <td>0.0</td>\n      <td>47981.000000</td>\n      <td>41.683166</td>\n      <td>5.710594e+03</td>\n      <td>0</td>\n    </tr>\n    <tr>\n      <th>1</th>\n      <td>158</td>\n      <td>2</td>\n      <td>2</td>\n      <td>80.0</td>\n      <td>112.0</td>\n      <td>40.00</td>\n      <td>56.0</td>\n      <td>12658.227850</td>\n      <td>12658.227850</td>\n      <td>4.000000</td>\n      <td>3.0</td>\n      <td>52.666667</td>\n      <td>25316.455700</td>\n      <td>1.215190e+06</td>\n      <td>0</td>\n    </tr>\n    <tr>\n      <th>2</th>\n      <td>119612</td>\n      <td>2</td>\n      <td>2</td>\n      <td>68.0</td>\n      <td>280.0</td>\n      <td>34.00</td>\n      <td>140.0</td>\n      <td>16.720730</td>\n      <td>16.720730</td>\n      <td>4.000000</td>\n      <td>3.0</td>\n      <td>39870.666670</td>\n      <td>33.441461</td>\n      <td>2.909407e+03</td>\n      <td>0</td>\n    </tr>\n    <tr>\n      <th>3</th>\n      <td>26337</td>\n      <td>150</td>\n      <td>0</td>\n      <td>65424.0</td>\n      <td>0.0</td>\n      <td>436.16</td>\n      <td>0.0</td>\n      <td>5695.409500</td>\n      <td>0.000000</td>\n      <td>176.758389</td>\n      <td>0.0</td>\n      <td>176.758389</td>\n      <td>5695.409500</td>\n      <td>2.484110e+06</td>\n      <td>1</td>\n    </tr>\n    <tr>\n      <th>4</th>\n      <td>8973061</td>\n      <td>10</td>\n      <td>2</td>\n      <td>460.0</td>\n      <td>92.0</td>\n      <td>46.00</td>\n      <td>46.0</td>\n      <td>1.114447</td>\n      <td>0.222889</td>\n      <td>849257.777800</td>\n      <td>3.0</td>\n      <td>815732.818200</td>\n      <td>1.337336</td>\n      <td>6.151747e+01</td>\n      <td>0</td>\n    </tr>\n  </tbody>\n</table>\n</div>"
     },
     "execution_count": 27,
     "metadata": {},
     "output_type": "execute_result"
    }
   ],
   "source": [
    "df2 = df2.iloc[10001:20001].reset_index(drop=True)\n",
    "df2.head()"
   ],
   "metadata": {
    "collapsed": false,
    "ExecuteTime": {
     "end_time": "2023-06-20T17:00:33.845915635Z",
     "start_time": "2023-06-20T17:00:33.822534124Z"
    }
   }
  },
  {
   "cell_type": "code",
   "execution_count": 28,
   "outputs": [
    {
     "data": {
      "text/plain": "   FQDN_count  subdomain_length  upper  lower  numeric   entropy  special   \n0          24                 7      0     10        8  2.054029        6  \\\n1          12                 0      0     11        0  2.817711        1   \n2          27                10      0     10       11  2.570417        6   \n3          25                 8      0     10        9  2.556642        6   \n4          24                 7      0     10        8  2.054029        6   \n\n   labels  labels_max  labels_average  ...  Fwd Packet Length Mean   \n0       6           7        3.166667  ...                   96.00  \\\n1       2           8        5.500000  ...                   40.00   \n2       6           7        3.666667  ...                   34.00   \n3       6           7        3.333333  ...                  436.16   \n4       6           7        3.166667  ...                   46.00   \n\n   Bwd Packet Length Mean  Fwd Packets/s  Bwd Packets/s   Fwd IAT Mean   \n0                   178.0      20.841583      20.841583       0.000000  \\\n1                    56.0   12658.227850   12658.227850       4.000000   \n2                   140.0      16.720730      16.720730       4.000000   \n3                     0.0    5695.409500       0.000000     176.758389   \n4                    46.0       1.114447       0.222889  849257.777800   \n\n   Bwd IAT Mean  Flow IAT Mean  Flow Packets/s  Flow Bytes/s  Label  \n0           0.0   47981.000000       41.683166  5.710594e+03      0  \n1           3.0      52.666667    25316.455700  1.215190e+06      0  \n2           3.0   39870.666670       33.441461  2.909407e+03      0  \n3           0.0     176.758389     5695.409500  2.484110e+06      1  \n4           3.0  815732.818200        1.337336  6.151747e+01      0  \n\n[5 rows x 30 columns]",
      "text/html": "<div>\n<style scoped>\n    .dataframe tbody tr th:only-of-type {\n        vertical-align: middle;\n    }\n\n    .dataframe tbody tr th {\n        vertical-align: top;\n    }\n\n    .dataframe thead th {\n        text-align: right;\n    }\n</style>\n<table border=\"1\" class=\"dataframe\">\n  <thead>\n    <tr style=\"text-align: right;\">\n      <th></th>\n      <th>FQDN_count</th>\n      <th>subdomain_length</th>\n      <th>upper</th>\n      <th>lower</th>\n      <th>numeric</th>\n      <th>entropy</th>\n      <th>special</th>\n      <th>labels</th>\n      <th>labels_max</th>\n      <th>labels_average</th>\n      <th>...</th>\n      <th>Fwd Packet Length Mean</th>\n      <th>Bwd Packet Length Mean</th>\n      <th>Fwd Packets/s</th>\n      <th>Bwd Packets/s</th>\n      <th>Fwd IAT Mean</th>\n      <th>Bwd IAT Mean</th>\n      <th>Flow IAT Mean</th>\n      <th>Flow Packets/s</th>\n      <th>Flow Bytes/s</th>\n      <th>Label</th>\n    </tr>\n  </thead>\n  <tbody>\n    <tr>\n      <th>0</th>\n      <td>24</td>\n      <td>7</td>\n      <td>0</td>\n      <td>10</td>\n      <td>8</td>\n      <td>2.054029</td>\n      <td>6</td>\n      <td>6</td>\n      <td>7</td>\n      <td>3.166667</td>\n      <td>...</td>\n      <td>96.00</td>\n      <td>178.0</td>\n      <td>20.841583</td>\n      <td>20.841583</td>\n      <td>0.000000</td>\n      <td>0.0</td>\n      <td>47981.000000</td>\n      <td>41.683166</td>\n      <td>5.710594e+03</td>\n      <td>0</td>\n    </tr>\n    <tr>\n      <th>1</th>\n      <td>12</td>\n      <td>0</td>\n      <td>0</td>\n      <td>11</td>\n      <td>0</td>\n      <td>2.817711</td>\n      <td>1</td>\n      <td>2</td>\n      <td>8</td>\n      <td>5.500000</td>\n      <td>...</td>\n      <td>40.00</td>\n      <td>56.0</td>\n      <td>12658.227850</td>\n      <td>12658.227850</td>\n      <td>4.000000</td>\n      <td>3.0</td>\n      <td>52.666667</td>\n      <td>25316.455700</td>\n      <td>1.215190e+06</td>\n      <td>0</td>\n    </tr>\n    <tr>\n      <th>2</th>\n      <td>27</td>\n      <td>10</td>\n      <td>0</td>\n      <td>10</td>\n      <td>11</td>\n      <td>2.570417</td>\n      <td>6</td>\n      <td>6</td>\n      <td>7</td>\n      <td>3.666667</td>\n      <td>...</td>\n      <td>34.00</td>\n      <td>140.0</td>\n      <td>16.720730</td>\n      <td>16.720730</td>\n      <td>4.000000</td>\n      <td>3.0</td>\n      <td>39870.666670</td>\n      <td>33.441461</td>\n      <td>2.909407e+03</td>\n      <td>0</td>\n    </tr>\n    <tr>\n      <th>3</th>\n      <td>25</td>\n      <td>8</td>\n      <td>0</td>\n      <td>10</td>\n      <td>9</td>\n      <td>2.556642</td>\n      <td>6</td>\n      <td>6</td>\n      <td>7</td>\n      <td>3.333333</td>\n      <td>...</td>\n      <td>436.16</td>\n      <td>0.0</td>\n      <td>5695.409500</td>\n      <td>0.000000</td>\n      <td>176.758389</td>\n      <td>0.0</td>\n      <td>176.758389</td>\n      <td>5695.409500</td>\n      <td>2.484110e+06</td>\n      <td>1</td>\n    </tr>\n    <tr>\n      <th>4</th>\n      <td>24</td>\n      <td>7</td>\n      <td>0</td>\n      <td>10</td>\n      <td>8</td>\n      <td>2.054029</td>\n      <td>6</td>\n      <td>6</td>\n      <td>7</td>\n      <td>3.166667</td>\n      <td>...</td>\n      <td>46.00</td>\n      <td>46.0</td>\n      <td>1.114447</td>\n      <td>0.222889</td>\n      <td>849257.777800</td>\n      <td>3.0</td>\n      <td>815732.818200</td>\n      <td>1.337336</td>\n      <td>6.151747e+01</td>\n      <td>0</td>\n    </tr>\n  </tbody>\n</table>\n<p>5 rows × 30 columns</p>\n</div>"
     },
     "execution_count": 28,
     "metadata": {},
     "output_type": "execute_result"
    }
   ],
   "source": [
    "df = pd.concat([df1, df2], axis=1)\n",
    "df.head()"
   ],
   "metadata": {
    "collapsed": false,
    "ExecuteTime": {
     "end_time": "2023-06-20T17:00:50.390840540Z",
     "start_time": "2023-06-20T17:00:50.325181270Z"
    }
   }
  },
  {
   "cell_type": "code",
   "execution_count": 29,
   "outputs": [
    {
     "data": {
      "text/plain": "0    1\n1    0\n2    1\n3    1\n4    1\ndtype: int64"
     },
     "execution_count": 29,
     "metadata": {},
     "output_type": "execute_result"
    }
   ],
   "source": [
    "check_df = df['label'] | df['Label']\n",
    "check_df.head()"
   ],
   "metadata": {
    "collapsed": false,
    "ExecuteTime": {
     "end_time": "2023-06-20T17:02:37.316841639Z",
     "start_time": "2023-06-20T17:02:37.262946332Z"
    }
   }
  },
  {
   "cell_type": "code",
   "execution_count": 30,
   "outputs": [
    {
     "data": {
      "text/plain": "   FQDN_count  subdomain_length  upper  lower  numeric   entropy  special   \n0          24                 7      0     10        8  2.054029        6  \\\n1          12                 0      0     11        0  2.817711        1   \n2          27                10      0     10       11  2.570417        6   \n3          25                 8      0     10        9  2.556642        6   \n4          24                 7      0     10        8  2.054029        6   \n\n   labels  labels_max  labels_average  ...  Total Length of Bwd Packets   \n0       6           7        3.166667  ...                        178.0  \\\n1       2           8        5.500000  ...                        112.0   \n2       6           7        3.666667  ...                        280.0   \n3       6           7        3.333333  ...                          0.0   \n4       6           7        3.166667  ...                         92.0   \n\n   Fwd Packet Length Mean  Bwd Packet Length Mean  Fwd Packets/s   \n0                   96.00                   178.0      20.841583  \\\n1                   40.00                    56.0   12658.227850   \n2                   34.00                   140.0      16.720730   \n3                  436.16                     0.0    5695.409500   \n4                   46.00                    46.0       1.114447   \n\n   Bwd Packets/s   Fwd IAT Mean  Bwd IAT Mean  Flow IAT Mean  Flow Packets/s   \n0      20.841583       0.000000           0.0   47981.000000       41.683166  \\\n1   12658.227850       4.000000           3.0      52.666667    25316.455700   \n2      16.720730       4.000000           3.0   39870.666670       33.441461   \n3       0.000000     176.758389           0.0     176.758389     5695.409500   \n4       0.222889  849257.777800           3.0  815732.818200        1.337336   \n\n   Flow Bytes/s  \n0  5.710594e+03  \n1  1.215190e+06  \n2  2.909407e+03  \n3  2.484110e+06  \n4  6.151747e+01  \n\n[5 rows x 28 columns]",
      "text/html": "<div>\n<style scoped>\n    .dataframe tbody tr th:only-of-type {\n        vertical-align: middle;\n    }\n\n    .dataframe tbody tr th {\n        vertical-align: top;\n    }\n\n    .dataframe thead th {\n        text-align: right;\n    }\n</style>\n<table border=\"1\" class=\"dataframe\">\n  <thead>\n    <tr style=\"text-align: right;\">\n      <th></th>\n      <th>FQDN_count</th>\n      <th>subdomain_length</th>\n      <th>upper</th>\n      <th>lower</th>\n      <th>numeric</th>\n      <th>entropy</th>\n      <th>special</th>\n      <th>labels</th>\n      <th>labels_max</th>\n      <th>labels_average</th>\n      <th>...</th>\n      <th>Total Length of Bwd Packets</th>\n      <th>Fwd Packet Length Mean</th>\n      <th>Bwd Packet Length Mean</th>\n      <th>Fwd Packets/s</th>\n      <th>Bwd Packets/s</th>\n      <th>Fwd IAT Mean</th>\n      <th>Bwd IAT Mean</th>\n      <th>Flow IAT Mean</th>\n      <th>Flow Packets/s</th>\n      <th>Flow Bytes/s</th>\n    </tr>\n  </thead>\n  <tbody>\n    <tr>\n      <th>0</th>\n      <td>24</td>\n      <td>7</td>\n      <td>0</td>\n      <td>10</td>\n      <td>8</td>\n      <td>2.054029</td>\n      <td>6</td>\n      <td>6</td>\n      <td>7</td>\n      <td>3.166667</td>\n      <td>...</td>\n      <td>178.0</td>\n      <td>96.00</td>\n      <td>178.0</td>\n      <td>20.841583</td>\n      <td>20.841583</td>\n      <td>0.000000</td>\n      <td>0.0</td>\n      <td>47981.000000</td>\n      <td>41.683166</td>\n      <td>5.710594e+03</td>\n    </tr>\n    <tr>\n      <th>1</th>\n      <td>12</td>\n      <td>0</td>\n      <td>0</td>\n      <td>11</td>\n      <td>0</td>\n      <td>2.817711</td>\n      <td>1</td>\n      <td>2</td>\n      <td>8</td>\n      <td>5.500000</td>\n      <td>...</td>\n      <td>112.0</td>\n      <td>40.00</td>\n      <td>56.0</td>\n      <td>12658.227850</td>\n      <td>12658.227850</td>\n      <td>4.000000</td>\n      <td>3.0</td>\n      <td>52.666667</td>\n      <td>25316.455700</td>\n      <td>1.215190e+06</td>\n    </tr>\n    <tr>\n      <th>2</th>\n      <td>27</td>\n      <td>10</td>\n      <td>0</td>\n      <td>10</td>\n      <td>11</td>\n      <td>2.570417</td>\n      <td>6</td>\n      <td>6</td>\n      <td>7</td>\n      <td>3.666667</td>\n      <td>...</td>\n      <td>280.0</td>\n      <td>34.00</td>\n      <td>140.0</td>\n      <td>16.720730</td>\n      <td>16.720730</td>\n      <td>4.000000</td>\n      <td>3.0</td>\n      <td>39870.666670</td>\n      <td>33.441461</td>\n      <td>2.909407e+03</td>\n    </tr>\n    <tr>\n      <th>3</th>\n      <td>25</td>\n      <td>8</td>\n      <td>0</td>\n      <td>10</td>\n      <td>9</td>\n      <td>2.556642</td>\n      <td>6</td>\n      <td>6</td>\n      <td>7</td>\n      <td>3.333333</td>\n      <td>...</td>\n      <td>0.0</td>\n      <td>436.16</td>\n      <td>0.0</td>\n      <td>5695.409500</td>\n      <td>0.000000</td>\n      <td>176.758389</td>\n      <td>0.0</td>\n      <td>176.758389</td>\n      <td>5695.409500</td>\n      <td>2.484110e+06</td>\n    </tr>\n    <tr>\n      <th>4</th>\n      <td>24</td>\n      <td>7</td>\n      <td>0</td>\n      <td>10</td>\n      <td>8</td>\n      <td>2.054029</td>\n      <td>6</td>\n      <td>6</td>\n      <td>7</td>\n      <td>3.166667</td>\n      <td>...</td>\n      <td>92.0</td>\n      <td>46.00</td>\n      <td>46.0</td>\n      <td>1.114447</td>\n      <td>0.222889</td>\n      <td>849257.777800</td>\n      <td>3.0</td>\n      <td>815732.818200</td>\n      <td>1.337336</td>\n      <td>6.151747e+01</td>\n    </tr>\n  </tbody>\n</table>\n<p>5 rows × 28 columns</p>\n</div>"
     },
     "execution_count": 30,
     "metadata": {},
     "output_type": "execute_result"
    }
   ],
   "source": [
    "del df['label']\n",
    "del df['Label']\n",
    "df.head()"
   ],
   "metadata": {
    "collapsed": false,
    "ExecuteTime": {
     "end_time": "2023-06-20T17:03:57.533962266Z",
     "start_time": "2023-06-20T17:03:57.501543254Z"
    }
   }
  },
  {
   "cell_type": "code",
   "execution_count": 31,
   "outputs": [],
   "source": [
    "df.to_csv('final_dataset.csv', index=False)"
   ],
   "metadata": {
    "collapsed": false,
    "ExecuteTime": {
     "end_time": "2023-06-20T17:05:11.737144007Z",
     "start_time": "2023-06-20T17:05:11.282956747Z"
    }
   }
  },
  {
   "cell_type": "code",
   "execution_count": 32,
   "outputs": [],
   "source": [
    "check_df.to_csv('label_dataset.csv', index=False)"
   ],
   "metadata": {
    "collapsed": false,
    "ExecuteTime": {
     "end_time": "2023-06-20T17:05:13.659508922Z",
     "start_time": "2023-06-20T17:05:13.590000428Z"
    }
   }
  }
 ],
 "metadata": {
  "kernelspec": {
   "display_name": "Python 3",
   "language": "python",
   "name": "python3"
  },
  "language_info": {
   "codemirror_mode": {
    "name": "ipython",
    "version": 2
   },
   "file_extension": ".py",
   "mimetype": "text/x-python",
   "name": "python",
   "nbconvert_exporter": "python",
   "pygments_lexer": "ipython2",
   "version": "2.7.6"
  }
 },
 "nbformat": 4,
 "nbformat_minor": 0
}
