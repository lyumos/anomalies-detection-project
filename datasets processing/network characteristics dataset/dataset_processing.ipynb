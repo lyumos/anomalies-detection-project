{
 "cells": [
  {
   "cell_type": "code",
   "execution_count": 1,
   "metadata": {
    "collapsed": true,
    "ExecuteTime": {
     "end_time": "2023-06-17T17:09:30.848072993Z",
     "start_time": "2023-06-17T17:09:28.300529092Z"
    }
   },
   "outputs": [],
   "source": [
    "import pandas as pd"
   ]
  },
  {
   "cell_type": "markdown",
   "source": [
    "Загрузка датасета, преимущественно содержащего аномалии (датасет 1)"
   ],
   "metadata": {
    "collapsed": false
   }
  },
  {
   "cell_type": "code",
   "execution_count": 2,
   "outputs": [
    {
     "data": {
      "text/plain": "   protocol  flow_duration  total_forward_packets  total_backward_packets   \n0        17           2468                      4                       0  \\\n1        17            133                      4                       0   \n2        17          33509                    200                       0   \n3        17         288495                    200                       0   \n4        17              9                      2                       0   \n\n   total_forward_packets_length  total_backward_packets_length   \n0                        1580.0                            0.0  \\\n1                        5888.0                            0.0   \n2                       88000.0                            0.0   \n3                       88000.0                            0.0   \n4                        2062.0                            0.0   \n\n   forward_packet_length_mean  backward_packet_length_mean   \n0                       395.0                          0.0  \\\n1                      1472.0                          0.0   \n2                       440.0                          0.0   \n3                       440.0                          0.0   \n4                      1031.0                          0.0   \n\n   forward_packets_per_second  backward_packets_per_second  forward_iat_mean   \n0                 1620.745543                          0.0        822.666667  \\\n1                30075.187970                          0.0         44.333333   \n2                 5968.545764                          0.0        168.386935   \n3                  693.252916                          0.0       1449.723618   \n4               222222.222222                          0.0          9.000000   \n\n   backward_iat_mean  flow_iat_mean  flow_packets_per_seconds   \n0                0.0     822.666667               1620.745543  \\\n1                0.0      44.333333              30075.187970   \n2                0.0     168.386935               5968.545764   \n3                0.0    1449.723618                693.252916   \n4                0.0       9.000000             222222.222222   \n\n   flow_bytes_per_seconds      label  \n0            6.401945e+05  DrDoS_DNS  \n1            4.427068e+07  DrDoS_DNS  \n2            2.626160e+06  DrDoS_DNS  \n3            3.050313e+05  DrDoS_DNS  \n4            2.291111e+08  DrDoS_DNS  ",
      "text/html": "<div>\n<style scoped>\n    .dataframe tbody tr th:only-of-type {\n        vertical-align: middle;\n    }\n\n    .dataframe tbody tr th {\n        vertical-align: top;\n    }\n\n    .dataframe thead th {\n        text-align: right;\n    }\n</style>\n<table border=\"1\" class=\"dataframe\">\n  <thead>\n    <tr style=\"text-align: right;\">\n      <th></th>\n      <th>protocol</th>\n      <th>flow_duration</th>\n      <th>total_forward_packets</th>\n      <th>total_backward_packets</th>\n      <th>total_forward_packets_length</th>\n      <th>total_backward_packets_length</th>\n      <th>forward_packet_length_mean</th>\n      <th>backward_packet_length_mean</th>\n      <th>forward_packets_per_second</th>\n      <th>backward_packets_per_second</th>\n      <th>forward_iat_mean</th>\n      <th>backward_iat_mean</th>\n      <th>flow_iat_mean</th>\n      <th>flow_packets_per_seconds</th>\n      <th>flow_bytes_per_seconds</th>\n      <th>label</th>\n    </tr>\n  </thead>\n  <tbody>\n    <tr>\n      <th>0</th>\n      <td>17</td>\n      <td>2468</td>\n      <td>4</td>\n      <td>0</td>\n      <td>1580.0</td>\n      <td>0.0</td>\n      <td>395.0</td>\n      <td>0.0</td>\n      <td>1620.745543</td>\n      <td>0.0</td>\n      <td>822.666667</td>\n      <td>0.0</td>\n      <td>822.666667</td>\n      <td>1620.745543</td>\n      <td>6.401945e+05</td>\n      <td>DrDoS_DNS</td>\n    </tr>\n    <tr>\n      <th>1</th>\n      <td>17</td>\n      <td>133</td>\n      <td>4</td>\n      <td>0</td>\n      <td>5888.0</td>\n      <td>0.0</td>\n      <td>1472.0</td>\n      <td>0.0</td>\n      <td>30075.187970</td>\n      <td>0.0</td>\n      <td>44.333333</td>\n      <td>0.0</td>\n      <td>44.333333</td>\n      <td>30075.187970</td>\n      <td>4.427068e+07</td>\n      <td>DrDoS_DNS</td>\n    </tr>\n    <tr>\n      <th>2</th>\n      <td>17</td>\n      <td>33509</td>\n      <td>200</td>\n      <td>0</td>\n      <td>88000.0</td>\n      <td>0.0</td>\n      <td>440.0</td>\n      <td>0.0</td>\n      <td>5968.545764</td>\n      <td>0.0</td>\n      <td>168.386935</td>\n      <td>0.0</td>\n      <td>168.386935</td>\n      <td>5968.545764</td>\n      <td>2.626160e+06</td>\n      <td>DrDoS_DNS</td>\n    </tr>\n    <tr>\n      <th>3</th>\n      <td>17</td>\n      <td>288495</td>\n      <td>200</td>\n      <td>0</td>\n      <td>88000.0</td>\n      <td>0.0</td>\n      <td>440.0</td>\n      <td>0.0</td>\n      <td>693.252916</td>\n      <td>0.0</td>\n      <td>1449.723618</td>\n      <td>0.0</td>\n      <td>1449.723618</td>\n      <td>693.252916</td>\n      <td>3.050313e+05</td>\n      <td>DrDoS_DNS</td>\n    </tr>\n    <tr>\n      <th>4</th>\n      <td>17</td>\n      <td>9</td>\n      <td>2</td>\n      <td>0</td>\n      <td>2062.0</td>\n      <td>0.0</td>\n      <td>1031.0</td>\n      <td>0.0</td>\n      <td>222222.222222</td>\n      <td>0.0</td>\n      <td>9.000000</td>\n      <td>0.0</td>\n      <td>9.000000</td>\n      <td>222222.222222</td>\n      <td>2.291111e+08</td>\n      <td>DrDoS_DNS</td>\n    </tr>\n  </tbody>\n</table>\n</div>"
     },
     "execution_count": 2,
     "metadata": {},
     "output_type": "execute_result"
    }
   ],
   "source": [
    "with open('/home/lyumos/PycharmProjects/anomalies-detection-project/datasets processing/network characteristics dataset/abnormal traffic.csv', 'r') as file:\n",
    "    df1 = pd.read_csv(file)\n",
    "df1.head()"
   ],
   "metadata": {
    "collapsed": false,
    "ExecuteTime": {
     "end_time": "2023-06-17T17:09:31.059477859Z",
     "start_time": "2023-06-17T17:09:30.850980982Z"
    }
   }
  },
  {
   "cell_type": "markdown",
   "source": [
    "Обработка датасета 1"
   ],
   "metadata": {
    "collapsed": false
   }
  },
  {
   "cell_type": "code",
   "execution_count": 3,
   "outputs": [
    {
     "data": {
      "text/plain": "   Flow Duration  Total Fwd Packets  Total Backward Packets   \n0           2468                  4                       0  \\\n1            133                  4                       0   \n2          33509                200                       0   \n3         288495                200                       0   \n4              9                  2                       0   \n\n   Total Length of Fwd Packets  Total Length of Bwd Packets   \n0                       1580.0                          0.0  \\\n1                       5888.0                          0.0   \n2                      88000.0                          0.0   \n3                      88000.0                          0.0   \n4                       2062.0                          0.0   \n\n   Fwd Packet Length Mean  Bwd Packet Length Mean  Fwd Packets/s   \n0                   395.0                     0.0    1620.745543  \\\n1                  1472.0                     0.0   30075.187970   \n2                   440.0                     0.0    5968.545764   \n3                   440.0                     0.0     693.252916   \n4                  1031.0                     0.0  222222.222222   \n\n   Bwd Packets/s  Fwd IAT Mean  Bwd IAT Mean  Flow IAT Mean  Flow Packets/s   \n0            0.0    822.666667           0.0     822.666667     1620.745543  \\\n1            0.0     44.333333           0.0      44.333333    30075.187970   \n2            0.0    168.386935           0.0     168.386935     5968.545764   \n3            0.0   1449.723618           0.0    1449.723618      693.252916   \n4            0.0      9.000000           0.0       9.000000   222222.222222   \n\n   Flow Bytes/s Label  \n0  6.401945e+05     1  \n1  4.427068e+07     1  \n2  2.626160e+06     1  \n3  3.050313e+05     1  \n4  2.291111e+08     1  ",
      "text/html": "<div>\n<style scoped>\n    .dataframe tbody tr th:only-of-type {\n        vertical-align: middle;\n    }\n\n    .dataframe tbody tr th {\n        vertical-align: top;\n    }\n\n    .dataframe thead th {\n        text-align: right;\n    }\n</style>\n<table border=\"1\" class=\"dataframe\">\n  <thead>\n    <tr style=\"text-align: right;\">\n      <th></th>\n      <th>Flow Duration</th>\n      <th>Total Fwd Packets</th>\n      <th>Total Backward Packets</th>\n      <th>Total Length of Fwd Packets</th>\n      <th>Total Length of Bwd Packets</th>\n      <th>Fwd Packet Length Mean</th>\n      <th>Bwd Packet Length Mean</th>\n      <th>Fwd Packets/s</th>\n      <th>Bwd Packets/s</th>\n      <th>Fwd IAT Mean</th>\n      <th>Bwd IAT Mean</th>\n      <th>Flow IAT Mean</th>\n      <th>Flow Packets/s</th>\n      <th>Flow Bytes/s</th>\n      <th>Label</th>\n    </tr>\n  </thead>\n  <tbody>\n    <tr>\n      <th>0</th>\n      <td>2468</td>\n      <td>4</td>\n      <td>0</td>\n      <td>1580.0</td>\n      <td>0.0</td>\n      <td>395.0</td>\n      <td>0.0</td>\n      <td>1620.745543</td>\n      <td>0.0</td>\n      <td>822.666667</td>\n      <td>0.0</td>\n      <td>822.666667</td>\n      <td>1620.745543</td>\n      <td>6.401945e+05</td>\n      <td>1</td>\n    </tr>\n    <tr>\n      <th>1</th>\n      <td>133</td>\n      <td>4</td>\n      <td>0</td>\n      <td>5888.0</td>\n      <td>0.0</td>\n      <td>1472.0</td>\n      <td>0.0</td>\n      <td>30075.187970</td>\n      <td>0.0</td>\n      <td>44.333333</td>\n      <td>0.0</td>\n      <td>44.333333</td>\n      <td>30075.187970</td>\n      <td>4.427068e+07</td>\n      <td>1</td>\n    </tr>\n    <tr>\n      <th>2</th>\n      <td>33509</td>\n      <td>200</td>\n      <td>0</td>\n      <td>88000.0</td>\n      <td>0.0</td>\n      <td>440.0</td>\n      <td>0.0</td>\n      <td>5968.545764</td>\n      <td>0.0</td>\n      <td>168.386935</td>\n      <td>0.0</td>\n      <td>168.386935</td>\n      <td>5968.545764</td>\n      <td>2.626160e+06</td>\n      <td>1</td>\n    </tr>\n    <tr>\n      <th>3</th>\n      <td>288495</td>\n      <td>200</td>\n      <td>0</td>\n      <td>88000.0</td>\n      <td>0.0</td>\n      <td>440.0</td>\n      <td>0.0</td>\n      <td>693.252916</td>\n      <td>0.0</td>\n      <td>1449.723618</td>\n      <td>0.0</td>\n      <td>1449.723618</td>\n      <td>693.252916</td>\n      <td>3.050313e+05</td>\n      <td>1</td>\n    </tr>\n    <tr>\n      <th>4</th>\n      <td>9</td>\n      <td>2</td>\n      <td>0</td>\n      <td>2062.0</td>\n      <td>0.0</td>\n      <td>1031.0</td>\n      <td>0.0</td>\n      <td>222222.222222</td>\n      <td>0.0</td>\n      <td>9.000000</td>\n      <td>0.0</td>\n      <td>9.000000</td>\n      <td>222222.222222</td>\n      <td>2.291111e+08</td>\n      <td>1</td>\n    </tr>\n  </tbody>\n</table>\n</div>"
     },
     "execution_count": 3,
     "metadata": {},
     "output_type": "execute_result"
    }
   ],
   "source": [
    "df1.drop(df1.columns[0], axis=1, inplace=True)\n",
    "df1.columns = ['Flow Duration', 'Total Fwd Packets', 'Total Backward Packets', 'Total Length of Fwd Packets', 'Total Length of Bwd Packets', 'Fwd Packet Length Mean', 'Bwd Packet Length Mean', 'Fwd Packets/s', 'Bwd Packets/s', 'Fwd IAT Mean', 'Bwd IAT Mean', 'Flow IAT Mean', 'Flow Packets/s', 'Flow Bytes/s', 'Label']\n",
    "df1.loc[(df1.Label == 'DrDoS_DNS'), 'Label'] = 1\n",
    "df1.loc[(df1.Label == 'BENIGN'), 'Label'] = 0\n",
    "df1.head()"
   ],
   "metadata": {
    "collapsed": false,
    "ExecuteTime": {
     "end_time": "2023-06-17T17:09:31.468575419Z",
     "start_time": "2023-06-17T17:09:31.094658545Z"
    }
   }
  },
  {
   "cell_type": "markdown",
   "source": [
    "Загрузка датасета, содержащего нормальный трафик (датасет 2)"
   ],
   "metadata": {
    "collapsed": false
   }
  },
  {
   "cell_type": "code",
   "execution_count": 4,
   "outputs": [
    {
     "data": {
      "text/plain": "    Flow Duration   Total Fwd Packets   Total Backward Packets   \n0           46870                   1                        1  \\\n1           62958                   1                        1   \n2           66230                   1                        1   \n3          398250                   1                        1   \n4           23544                   1                        1   \n\n   Total Length of Fwd Packets   Total Length of Bwd Packets   \n0                           44                           240  \\\n1                           48                            80   \n2                           50                           162   \n3                           55                           213   \n4                           43                           206   \n\n    Fwd Packet Length Mean   Bwd Packet Length Mean  Fwd Packets/s   \n0                     44.0                    240.0      21.335609  \\\n1                     48.0                     80.0      15.883605   \n2                     50.0                    162.0      15.098898   \n3                     55.0                    213.0       2.510986   \n4                     43.0                    206.0      42.473666   \n\n    Bwd Packets/s   Fwd IAT Mean   Bwd IAT Mean   Flow IAT Mean   \n0       21.335609            0.0            0.0         46870.0  \\\n1       15.883605            0.0            0.0         62958.0   \n2       15.098898            0.0            0.0         66230.0   \n3        2.510986            0.0            0.0        398250.0   \n4       42.473666            0.0            0.0         23544.0   \n\n    Flow Packets/s  Flow Bytes/s   Label  \n0        42.671218   6059.312993  BENIGN  \n1        31.767210   2033.101433  BENIGN  \n2        30.197796   3200.966329  BENIGN  \n3         5.021971    672.944131  BENIGN  \n4        84.947333  10575.942920  BENIGN  ",
      "text/html": "<div>\n<style scoped>\n    .dataframe tbody tr th:only-of-type {\n        vertical-align: middle;\n    }\n\n    .dataframe tbody tr th {\n        vertical-align: top;\n    }\n\n    .dataframe thead th {\n        text-align: right;\n    }\n</style>\n<table border=\"1\" class=\"dataframe\">\n  <thead>\n    <tr style=\"text-align: right;\">\n      <th></th>\n      <th>Flow Duration</th>\n      <th>Total Fwd Packets</th>\n      <th>Total Backward Packets</th>\n      <th>Total Length of Fwd Packets</th>\n      <th>Total Length of Bwd Packets</th>\n      <th>Fwd Packet Length Mean</th>\n      <th>Bwd Packet Length Mean</th>\n      <th>Fwd Packets/s</th>\n      <th>Bwd Packets/s</th>\n      <th>Fwd IAT Mean</th>\n      <th>Bwd IAT Mean</th>\n      <th>Flow IAT Mean</th>\n      <th>Flow Packets/s</th>\n      <th>Flow Bytes/s</th>\n      <th>Label</th>\n    </tr>\n  </thead>\n  <tbody>\n    <tr>\n      <th>0</th>\n      <td>46870</td>\n      <td>1</td>\n      <td>1</td>\n      <td>44</td>\n      <td>240</td>\n      <td>44.0</td>\n      <td>240.0</td>\n      <td>21.335609</td>\n      <td>21.335609</td>\n      <td>0.0</td>\n      <td>0.0</td>\n      <td>46870.0</td>\n      <td>42.671218</td>\n      <td>6059.312993</td>\n      <td>BENIGN</td>\n    </tr>\n    <tr>\n      <th>1</th>\n      <td>62958</td>\n      <td>1</td>\n      <td>1</td>\n      <td>48</td>\n      <td>80</td>\n      <td>48.0</td>\n      <td>80.0</td>\n      <td>15.883605</td>\n      <td>15.883605</td>\n      <td>0.0</td>\n      <td>0.0</td>\n      <td>62958.0</td>\n      <td>31.767210</td>\n      <td>2033.101433</td>\n      <td>BENIGN</td>\n    </tr>\n    <tr>\n      <th>2</th>\n      <td>66230</td>\n      <td>1</td>\n      <td>1</td>\n      <td>50</td>\n      <td>162</td>\n      <td>50.0</td>\n      <td>162.0</td>\n      <td>15.098898</td>\n      <td>15.098898</td>\n      <td>0.0</td>\n      <td>0.0</td>\n      <td>66230.0</td>\n      <td>30.197796</td>\n      <td>3200.966329</td>\n      <td>BENIGN</td>\n    </tr>\n    <tr>\n      <th>3</th>\n      <td>398250</td>\n      <td>1</td>\n      <td>1</td>\n      <td>55</td>\n      <td>213</td>\n      <td>55.0</td>\n      <td>213.0</td>\n      <td>2.510986</td>\n      <td>2.510986</td>\n      <td>0.0</td>\n      <td>0.0</td>\n      <td>398250.0</td>\n      <td>5.021971</td>\n      <td>672.944131</td>\n      <td>BENIGN</td>\n    </tr>\n    <tr>\n      <th>4</th>\n      <td>23544</td>\n      <td>1</td>\n      <td>1</td>\n      <td>43</td>\n      <td>206</td>\n      <td>43.0</td>\n      <td>206.0</td>\n      <td>42.473666</td>\n      <td>42.473666</td>\n      <td>0.0</td>\n      <td>0.0</td>\n      <td>23544.0</td>\n      <td>84.947333</td>\n      <td>10575.942920</td>\n      <td>BENIGN</td>\n    </tr>\n  </tbody>\n</table>\n</div>"
     },
     "execution_count": 4,
     "metadata": {},
     "output_type": "execute_result"
    }
   ],
   "source": [
    "with open('/home/lyumos/PycharmProjects/anomalies-detection-project/datasets processing/network characteristics dataset/benign traffic.csv', 'r') as file:\n",
    "    df2 = pd.read_csv(file)\n",
    "df2.head()"
   ],
   "metadata": {
    "collapsed": false,
    "ExecuteTime": {
     "end_time": "2023-06-17T17:09:31.842583025Z",
     "start_time": "2023-06-17T17:09:31.325240101Z"
    }
   }
  },
  {
   "cell_type": "markdown",
   "source": [
    "Обработка датасета 2"
   ],
   "metadata": {
    "collapsed": false
   }
  },
  {
   "cell_type": "code",
   "execution_count": 5,
   "outputs": [
    {
     "data": {
      "text/plain": "   Flow Duration  Total Fwd Packets  Total Backward Packets   \n0          46870                  1                       1  \\\n1          62958                  1                       1   \n2          66230                  1                       1   \n3         398250                  1                       1   \n4          23544                  1                       1   \n\n   Total Length of Fwd Packets  Total Length of Bwd Packets   \n0                           44                          240  \\\n1                           48                           80   \n2                           50                          162   \n3                           55                          213   \n4                           43                          206   \n\n   Fwd Packet Length Mean  Bwd Packet Length Mean  Fwd Packets/s   \n0                    44.0                   240.0      21.335609  \\\n1                    48.0                    80.0      15.883605   \n2                    50.0                   162.0      15.098898   \n3                    55.0                   213.0       2.510986   \n4                    43.0                   206.0      42.473666   \n\n   Bwd Packets/s  Fwd IAT Mean  Bwd IAT Mean  Flow IAT Mean  Flow Packets/s   \n0      21.335609           0.0           0.0        46870.0       42.671218  \\\n1      15.883605           0.0           0.0        62958.0       31.767210   \n2      15.098898           0.0           0.0        66230.0       30.197796   \n3       2.510986           0.0           0.0       398250.0        5.021971   \n4      42.473666           0.0           0.0        23544.0       84.947333   \n\n   Flow Bytes/s Label  \n0   6059.312993     0  \n1   2033.101433     0  \n2   3200.966329     0  \n3    672.944131     0  \n4  10575.942920     0  ",
      "text/html": "<div>\n<style scoped>\n    .dataframe tbody tr th:only-of-type {\n        vertical-align: middle;\n    }\n\n    .dataframe tbody tr th {\n        vertical-align: top;\n    }\n\n    .dataframe thead th {\n        text-align: right;\n    }\n</style>\n<table border=\"1\" class=\"dataframe\">\n  <thead>\n    <tr style=\"text-align: right;\">\n      <th></th>\n      <th>Flow Duration</th>\n      <th>Total Fwd Packets</th>\n      <th>Total Backward Packets</th>\n      <th>Total Length of Fwd Packets</th>\n      <th>Total Length of Bwd Packets</th>\n      <th>Fwd Packet Length Mean</th>\n      <th>Bwd Packet Length Mean</th>\n      <th>Fwd Packets/s</th>\n      <th>Bwd Packets/s</th>\n      <th>Fwd IAT Mean</th>\n      <th>Bwd IAT Mean</th>\n      <th>Flow IAT Mean</th>\n      <th>Flow Packets/s</th>\n      <th>Flow Bytes/s</th>\n      <th>Label</th>\n    </tr>\n  </thead>\n  <tbody>\n    <tr>\n      <th>0</th>\n      <td>46870</td>\n      <td>1</td>\n      <td>1</td>\n      <td>44</td>\n      <td>240</td>\n      <td>44.0</td>\n      <td>240.0</td>\n      <td>21.335609</td>\n      <td>21.335609</td>\n      <td>0.0</td>\n      <td>0.0</td>\n      <td>46870.0</td>\n      <td>42.671218</td>\n      <td>6059.312993</td>\n      <td>0</td>\n    </tr>\n    <tr>\n      <th>1</th>\n      <td>62958</td>\n      <td>1</td>\n      <td>1</td>\n      <td>48</td>\n      <td>80</td>\n      <td>48.0</td>\n      <td>80.0</td>\n      <td>15.883605</td>\n      <td>15.883605</td>\n      <td>0.0</td>\n      <td>0.0</td>\n      <td>62958.0</td>\n      <td>31.767210</td>\n      <td>2033.101433</td>\n      <td>0</td>\n    </tr>\n    <tr>\n      <th>2</th>\n      <td>66230</td>\n      <td>1</td>\n      <td>1</td>\n      <td>50</td>\n      <td>162</td>\n      <td>50.0</td>\n      <td>162.0</td>\n      <td>15.098898</td>\n      <td>15.098898</td>\n      <td>0.0</td>\n      <td>0.0</td>\n      <td>66230.0</td>\n      <td>30.197796</td>\n      <td>3200.966329</td>\n      <td>0</td>\n    </tr>\n    <tr>\n      <th>3</th>\n      <td>398250</td>\n      <td>1</td>\n      <td>1</td>\n      <td>55</td>\n      <td>213</td>\n      <td>55.0</td>\n      <td>213.0</td>\n      <td>2.510986</td>\n      <td>2.510986</td>\n      <td>0.0</td>\n      <td>0.0</td>\n      <td>398250.0</td>\n      <td>5.021971</td>\n      <td>672.944131</td>\n      <td>0</td>\n    </tr>\n    <tr>\n      <th>4</th>\n      <td>23544</td>\n      <td>1</td>\n      <td>1</td>\n      <td>43</td>\n      <td>206</td>\n      <td>43.0</td>\n      <td>206.0</td>\n      <td>42.473666</td>\n      <td>42.473666</td>\n      <td>0.0</td>\n      <td>0.0</td>\n      <td>23544.0</td>\n      <td>84.947333</td>\n      <td>10575.942920</td>\n      <td>0</td>\n    </tr>\n  </tbody>\n</table>\n</div>"
     },
     "execution_count": 5,
     "metadata": {},
     "output_type": "execute_result"
    }
   ],
   "source": [
    "df2.columns = ['Flow Duration', 'Total Fwd Packets', 'Total Backward Packets', 'Total Length of Fwd Packets', 'Total Length of Bwd Packets', 'Fwd Packet Length Mean', 'Bwd Packet Length Mean', 'Fwd Packets/s', 'Bwd Packets/s', 'Fwd IAT Mean', 'Bwd IAT Mean', 'Flow IAT Mean', 'Flow Packets/s', 'Flow Bytes/s', 'Label']\n",
    "df2.loc[(df2.Label == 'BENIGN'), 'Label'] = 0\n",
    "df2.head()"
   ],
   "metadata": {
    "collapsed": false,
    "ExecuteTime": {
     "end_time": "2023-06-17T17:09:31.927093437Z",
     "start_time": "2023-06-17T17:09:31.863524708Z"
    }
   }
  },
  {
   "cell_type": "markdown",
   "source": [
    "Объединение датасетов"
   ],
   "metadata": {
    "collapsed": false
   }
  },
  {
   "cell_type": "code",
   "execution_count": 6,
   "outputs": [
    {
     "data": {
      "text/plain": "Label\n0    192067\n1     32797\nName: count, dtype: int64"
     },
     "execution_count": 6,
     "metadata": {},
     "output_type": "execute_result"
    }
   ],
   "source": [
    "df = pd.concat([df1, df2])\n",
    "df = df.sample(frac=1).reset_index(drop=True)\n",
    "df.Label.value_counts()"
   ],
   "metadata": {
    "collapsed": false,
    "ExecuteTime": {
     "end_time": "2023-06-17T17:09:32.430526018Z",
     "start_time": "2023-06-17T17:09:31.903480560Z"
    }
   }
  },
  {
   "cell_type": "code",
   "execution_count": 7,
   "outputs": [
    {
     "data": {
      "text/plain": "Label\n0    90629\n1    32797\nName: count, dtype: int64"
     },
     "execution_count": 7,
     "metadata": {},
     "output_type": "execute_result"
    }
   ],
   "source": [
    "df.drop(df[df['Label'] == 0].index[:101438], inplace=True)\n",
    "df.Label.value_counts()"
   ],
   "metadata": {
    "collapsed": false,
    "ExecuteTime": {
     "end_time": "2023-06-17T17:09:32.432328248Z",
     "start_time": "2023-06-17T17:09:32.367889579Z"
    }
   }
  }
 ],
 "metadata": {
  "kernelspec": {
   "display_name": "Python 3",
   "language": "python",
   "name": "python3"
  },
  "language_info": {
   "codemirror_mode": {
    "name": "ipython",
    "version": 2
   },
   "file_extension": ".py",
   "mimetype": "text/x-python",
   "name": "python",
   "nbconvert_exporter": "python",
   "pygments_lexer": "ipython2",
   "version": "2.7.6"
  }
 },
 "nbformat": 4,
 "nbformat_minor": 0
}
